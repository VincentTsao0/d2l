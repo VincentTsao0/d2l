{
 "cells": [
  {
   "attachments": {},
   "cell_type": "markdown",
   "id": "abeac49d",
   "metadata": {
    "origin_pos": 0
   },
   "source": [
    "# 数据预处理\n",
    ":label:`sec_pandas`\n",
    "\n",
    "为了能用深度学习来解决现实世界的问题，我们经常从预处理原始数据开始，\n",
    "而不是从那些准备好的张量格式数据开始。\n",
    "在Python中常用的数据分析工具中，我们通常使用`pandas`软件包。\n",
    "像庞大的Python生态系统中的许多其他扩展包一样，`pandas`可以与张量兼容。\n",
    "本节我们将简要介绍使用`pandas`预处理原始数据，并将原始数据转换为张量格式的步骤。\n",
    "我们将在后面的章节中介绍更多的数据预处理技术。\n",
    "\n",
    "## 读取数据集\n",
    "\n",
    "举一个例子，我们首先(**创建一个人工数据集，并存储在CSV（逗号分隔值）文件**)\n",
    "`../data/house_tiny.csv`中。\n",
    "以其他格式存储的数据也可以通过类似的方式进行处理。\n",
    "下面我们将数据集按行写入CSV文件中。\n"
   ]
  },
  {
   "cell_type": "code",
   "execution_count": 39,
   "id": "3485a3af",
   "metadata": {
    "execution": {
     "iopub.execute_input": "2022-07-31T02:47:43.120836Z",
     "iopub.status.busy": "2022-07-31T02:47:43.120587Z",
     "iopub.status.idle": "2022-07-31T02:47:43.130058Z",
     "shell.execute_reply": "2022-07-31T02:47:43.129398Z"
    },
    "origin_pos": 1,
    "tab": [
     "pytorch"
    ]
   },
   "outputs": [],
   "source": [
    "import os\n",
    "\n",
    "os.makedirs(os.path.join('..', 'data'), exist_ok=True)\n",
    "data_file = os.path.join('..', 'data', 'house_tiny.csv')\n",
    "with open(data_file, 'w') as f:\n",
    "    f.write('NumRooms,Alley,Price\\n')  # 列名\n",
    "    f.write('NA,Pave,127500\\n')  # 每行表示一个数据样本\n",
    "    f.write('2,NA,106000\\n')\n",
    "    f.write('4,NA,178100\\n')\n",
    "    f.write('NA,NA,140000\\n')"
   ]
  },
  {
   "attachments": {},
   "cell_type": "markdown",
   "id": "95605a32",
   "metadata": {
    "origin_pos": 2
   },
   "source": [
    "要[**从创建的CSV文件中加载原始数据集**]，我们导入`pandas`包并调用`read_csv`函数。该数据集有四行三列。其中每行描述了房间数量（“NumRooms”）、巷子类型（“Alley”）和房屋价格（“Price”）。\n"
   ]
  },
  {
   "cell_type": "code",
   "execution_count": 40,
   "id": "4d067bac",
   "metadata": {
    "execution": {
     "iopub.execute_input": "2022-07-31T02:47:43.133316Z",
     "iopub.status.busy": "2022-07-31T02:47:43.132861Z",
     "iopub.status.idle": "2022-07-31T02:47:43.561131Z",
     "shell.execute_reply": "2022-07-31T02:47:43.560442Z"
    },
    "origin_pos": 3,
    "tab": [
     "pytorch"
    ]
   },
   "outputs": [
    {
     "data": {
      "text/html": [
       "<div>\n",
       "<style scoped>\n",
       "    .dataframe tbody tr th:only-of-type {\n",
       "        vertical-align: middle;\n",
       "    }\n",
       "\n",
       "    .dataframe tbody tr th {\n",
       "        vertical-align: top;\n",
       "    }\n",
       "\n",
       "    .dataframe thead th {\n",
       "        text-align: right;\n",
       "    }\n",
       "</style>\n",
       "<table border=\"1\" class=\"dataframe\">\n",
       "  <thead>\n",
       "    <tr style=\"text-align: right;\">\n",
       "      <th></th>\n",
       "      <th>NumRooms</th>\n",
       "      <th>Alley</th>\n",
       "      <th>Price</th>\n",
       "    </tr>\n",
       "  </thead>\n",
       "  <tbody>\n",
       "    <tr>\n",
       "      <th>0</th>\n",
       "      <td>NaN</td>\n",
       "      <td>Pave</td>\n",
       "      <td>127500</td>\n",
       "    </tr>\n",
       "    <tr>\n",
       "      <th>1</th>\n",
       "      <td>2.0</td>\n",
       "      <td>NaN</td>\n",
       "      <td>106000</td>\n",
       "    </tr>\n",
       "    <tr>\n",
       "      <th>2</th>\n",
       "      <td>4.0</td>\n",
       "      <td>NaN</td>\n",
       "      <td>178100</td>\n",
       "    </tr>\n",
       "    <tr>\n",
       "      <th>3</th>\n",
       "      <td>NaN</td>\n",
       "      <td>NaN</td>\n",
       "      <td>140000</td>\n",
       "    </tr>\n",
       "  </tbody>\n",
       "</table>\n",
       "</div>"
      ],
      "text/plain": [
       "   NumRooms Alley   Price\n",
       "0       NaN  Pave  127500\n",
       "1       2.0   NaN  106000\n",
       "2       4.0   NaN  178100\n",
       "3       NaN   NaN  140000"
      ]
     },
     "execution_count": 40,
     "metadata": {},
     "output_type": "execute_result"
    }
   ],
   "source": [
    "# 如果没有安装pandas，只需取消对以下行的注释来安装pandas\n",
    "# !pip install pandas\n",
    "import pandas as pd\n",
    "\n",
    "data = pd.read_csv(data_file)\n",
    "#print(data)，输出直接用data的话会使用jupyter自己的HTML格式，更好看一些\n",
    "data"
   ]
  },
  {
   "attachments": {},
   "cell_type": "markdown",
   "id": "66b841e4",
   "metadata": {
    "origin_pos": 4
   },
   "source": [
    "## 处理缺失值\n",
    "\n",
    "注意，“NaN”项代表缺失值。\n",
    "[**为了处理缺失的数据，典型的方法包括*插值法*和*删除法*，**]\n",
    "其中插值法用一个替代值弥补缺失值，而删除法则直接忽略缺失值。\n",
    "在(**这里，我们将考虑插值法**)。\n",
    "\n",
    "通过位置索引`iloc`，我们将`data`分成`inputs`和`outputs`，\n",
    "其中前者为`data`的前两列，而后者为`data`的最后一列。\n",
    "对于`inputs`中缺少的数值，我们用同一列的均值替换“NaN”项。\n"
   ]
  },
  {
   "cell_type": "code",
   "execution_count": 41,
   "id": "9feb87e7",
   "metadata": {
    "execution": {
     "iopub.execute_input": "2022-07-31T02:47:43.564342Z",
     "iopub.status.busy": "2022-07-31T02:47:43.563959Z",
     "iopub.status.idle": "2022-07-31T02:47:43.571872Z",
     "shell.execute_reply": "2022-07-31T02:47:43.571249Z"
    },
    "origin_pos": 5,
    "tab": [
     "pytorch"
    ]
   },
   "outputs": [
    {
     "name": "stdout",
     "output_type": "stream",
     "text": [
      "   NumRooms Alley\n",
      "0       3.0  Pave\n",
      "1       2.0   NaN\n",
      "2       4.0   NaN\n",
      "3       3.0   NaN\n"
     ]
    },
    {
     "name": "stderr",
     "output_type": "stream",
     "text": [
      "/var/folders/l5/z95gbpr13d3bjrhwpn7xfl700000gn/T/ipykernel_39316/2509160536.py:4: FutureWarning: Dropping of nuisance columns in DataFrame reductions (with 'numeric_only=None') is deprecated; in a future version this will raise TypeError.  Select only valid columns before calling the reduction.\n",
      "  inputs = inputs.fillna(inputs.mean())\n"
     ]
    }
   ],
   "source": [
    "#回顾语法，[[:, 0:2]]，:代表所有行,0:2是左开右闭。\n",
    "inputs, outputs = data.iloc[:, 0:2], data.iloc[:, 2]\n",
    "#用指定方法填充Na/NaN\n",
    "inputs = inputs.fillna(inputs.mean())\n",
    "print(inputs)"
   ]
  },
  {
   "attachments": {},
   "cell_type": "markdown",
   "id": "ad9920a8",
   "metadata": {
    "origin_pos": 6
   },
   "source": [
    "[**对于`inputs`中的类别值或离散值，我们将“NaN”视为一个类别。**]\n",
    "由于“巷子类型”（“Alley”）列只接受两种类型的类别值“Pave”和“NaN”，\n",
    "`pandas`可以自动将此列转换为两列“Alley_Pave”和“Alley_nan”。\n",
    "巷子类型为“Pave”的行会将“Alley_Pave”的值设置为1，“Alley_nan”的值设置为0。\n",
    "缺少巷子类型的行会将“Alley_Pave”和“Alley_nan”分别设置为0和1。\n"
   ]
  },
  {
   "cell_type": "code",
   "execution_count": 42,
   "id": "e228a5d0",
   "metadata": {
    "execution": {
     "iopub.execute_input": "2022-07-31T02:47:43.574819Z",
     "iopub.status.busy": "2022-07-31T02:47:43.574477Z",
     "iopub.status.idle": "2022-07-31T02:47:43.584160Z",
     "shell.execute_reply": "2022-07-31T02:47:43.583511Z"
    },
    "origin_pos": 7,
    "tab": [
     "pytorch"
    ]
   },
   "outputs": [
    {
     "name": "stdout",
     "output_type": "stream",
     "text": [
      "   NumRooms  Alley_Pave  Alley_nan\n",
      "0       3.0           1          0\n",
      "1       2.0           0          1\n",
      "2       4.0           0          1\n",
      "3       3.0           0          1\n"
     ]
    }
   ],
   "source": [
    "#把离散值（分类值）转变为dummy值\n",
    "inputs = pd.get_dummies(inputs, dummy_na=True)\n",
    "print(inputs)"
   ]
  },
  {
   "attachments": {},
   "cell_type": "markdown",
   "id": "a467868c",
   "metadata": {
    "origin_pos": 8
   },
   "source": [
    "## 转换为张量格式\n",
    "\n",
    "[**现在`inputs`和`outputs`中的所有条目都是数值类型，它们可以转换为张量格式。**]\n",
    "当数据采用张量格式后，可以通过在 :numref:`sec_ndarray`中引入的那些张量函数来进一步操作。\n"
   ]
  },
  {
   "cell_type": "code",
   "execution_count": 43,
   "id": "b6487a4f",
   "metadata": {
    "execution": {
     "iopub.execute_input": "2022-07-31T02:47:43.586980Z",
     "iopub.status.busy": "2022-07-31T02:47:43.586638Z",
     "iopub.status.idle": "2022-07-31T02:47:44.148381Z",
     "shell.execute_reply": "2022-07-31T02:47:44.147694Z"
    },
    "origin_pos": 10,
    "tab": [
     "pytorch"
    ]
   },
   "outputs": [
    {
     "data": {
      "text/plain": [
       "(tensor([[3., 1., 0.],\n",
       "         [2., 0., 1.],\n",
       "         [4., 0., 1.],\n",
       "         [3., 0., 1.]], dtype=torch.float64),\n",
       " tensor([127500, 106000, 178100, 140000]))"
      ]
     },
     "execution_count": 43,
     "metadata": {},
     "output_type": "execute_result"
    }
   ],
   "source": [
    "import torch\n",
    "\n",
    "X, y = torch.tensor(inputs.values), torch.tensor(outputs.values)\n",
    "X, y"
   ]
  },
  {
   "attachments": {},
   "cell_type": "markdown",
   "id": "a26f9257",
   "metadata": {
    "origin_pos": 12
   },
   "source": [
    "## 小结\n",
    "\n",
    "* `pandas`软件包是Python中常用的数据分析工具中，`pandas`可以与张量兼容。\n",
    "* 用`pandas`处理缺失的数据时，我们可根据情况选择用插值法和删除法。\n",
    "\n",
    "## 练习\n",
    "\n",
    "创建包含更多行和列的原始数据集。\n",
    "\n",
    "1. 删除缺失值最多的列。\n",
    "2. 将预处理后的数据集转换为张量格式。\n"
   ]
  },
  {
   "cell_type": "code",
   "execution_count": 44,
   "id": "5c413d4e",
   "metadata": {},
   "outputs": [
    {
     "name": "stdout",
     "output_type": "stream",
     "text": [
      "  animals  nums  dummy\n",
      "0     dog   3.0    NaN\n",
      "1     cat   3.0    NaN\n",
      "2    worm   5.0    NaN\n",
      "3    ququ   NaN    NaN\n",
      "animals    0\n",
      "nums       1\n",
      "dummy      4\n",
      "dtype: int64\n",
      "  animals  nums\n",
      "0     dog   3.0\n",
      "1     cat   3.0\n",
      "2    worm   5.0\n",
      "3    ququ   NaN\n"
     ]
    }
   ],
   "source": [
    "#test1\n",
    "data_file = os.path.join('..', 'data', 'pd_test1.csv')\n",
    "with open(data_file, 'w') as t:\n",
    "    #注意，里面填充数据的时候不要加空格，不然识别不了NA\n",
    "    t.write('animals,nums,dummy\\n')\n",
    "    t.write('dog,3,NA\\n')\n",
    "    t.write('cat,3,NA\\n')\n",
    "    t.write('worm,5,NA\\n')\n",
    "    t.write('ququ,NA,NA\\n')\n",
    "\n",
    "data_t1 = pd.read_csv(data_file)\n",
    "print(data_t1)\n",
    "#开始处理缺省值\n",
    "nan_num = data_t1.isna().sum(axis=0) #找出每一列NA的数量（理解axis=0的含义\n",
    "print(nan_num)\n",
    "na_maxid = nan_num.idxmax() #找出NA最多的那一列\n",
    "data_t1 = data_t1.drop([na_maxid], axis=1) #理解这个axis=1\n",
    "print(data_t1)\n"
   ]
  },
  {
   "cell_type": "code",
   "execution_count": 48,
   "id": "1f8ca6c6",
   "metadata": {},
   "outputs": [
    {
     "name": "stdout",
     "output_type": "stream",
     "text": [
      "  animals      nums\n",
      "0     dog  3.000000\n",
      "1     cat  3.000000\n",
      "2    worm  5.000000\n",
      "3    ququ  3.666667\n",
      "   animals_cat  animals_dog  animals_ququ  animals_worm\n",
      "0            0            1             0             0\n",
      "1            1            0             0             0\n",
      "2            0            0             0             1\n",
      "3            0            0             1             0\n"
     ]
    },
    {
     "data": {
      "text/plain": [
       "(tensor([[0, 1, 0, 0],\n",
       "         [1, 0, 0, 0],\n",
       "         [0, 0, 0, 1],\n",
       "         [0, 0, 1, 0]], dtype=torch.uint8),\n",
       " tensor([3.0000, 3.0000, 5.0000, 3.6667], dtype=torch.float64))"
      ]
     },
     "execution_count": 48,
     "metadata": {},
     "output_type": "execute_result"
    }
   ],
   "source": [
    "#test2\n",
    "#T2 = torch.tensor(data_t1.values) 注意，tensor不支持NA昂\n",
    "ip2 = data_t1.iloc[:, 1] #注意，csv格式不能直接用索引，要加位置索引 iloc,但是tensor可以直接访问\n",
    "#print(ip2)\n",
    "#print(data_t1.iloc[:, 1])\n",
    "data_t1.iloc[:, 1] = data_t1.iloc[:, 1].fillna(data_t1.iloc[:, 1].mean())\n",
    "print(data_t1)\n",
    "#T2 = torch.tensor(data_t1.values) #注意，tensor同时也不支持分类值（只支持数字和布尔）\n",
    "ip2 = pd.get_dummies(data_t1.iloc[: ,0:-1])\n",
    "print(ip2)\n",
    "Ip, Op = torch.tensor(ip2.values), torch.tensor(data_t1.iloc[:, 1])\n",
    "Ip, Op\n",
    "\n"
   ]
  },
  {
   "attachments": {},
   "cell_type": "markdown",
   "id": "0767d60f",
   "metadata": {
    "origin_pos": 14,
    "tab": [
     "pytorch"
    ]
   },
   "source": [
    "[Discussions](https://discuss.d2l.ai/t/1750)\n"
   ]
  }
 ],
 "metadata": {
  "kernelspec": {
   "display_name": "Python 3 (ipykernel)",
   "language": "python",
   "name": "python3"
  },
  "language_info": {
   "codemirror_mode": {
    "name": "ipython",
    "version": 3
   },
   "file_extension": ".py",
   "mimetype": "text/x-python",
   "name": "python",
   "nbconvert_exporter": "python",
   "pygments_lexer": "ipython3",
   "version": "3.8.13"
  }
 },
 "nbformat": 4,
 "nbformat_minor": 5
}
